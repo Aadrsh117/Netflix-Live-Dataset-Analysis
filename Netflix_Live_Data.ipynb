{
 "cells": [
  {
   "cell_type": "markdown",
   "id": "b9062b16-7368-456b-a023-fe6cf3d50c65",
   "metadata": {},
   "source": [
    "![Alt text](dataset/netflix.png)"
   ]
  },
  {
   "cell_type": "markdown",
   "id": "8e3930c6-399f-4e10-967d-c41f2263b3e7",
   "metadata": {},
   "source": [
    "Netflix Dataset Analysis using Pandas \n",
    "\n",
    "This Netflix Dataset has information about the TV Shows \n",
    "and Movies available on Netflix till 2021.\n",
    "\n",
    "This dataset is collected from Flixable which is a third-party \n",
    "Netflix search engine, and available on Kaggle website for free.\n",
    "\n"
   ]
  },
  {
   "cell_type": "code",
   "execution_count": 1,
   "id": "aea06d3a-d7fa-4a7a-9687-d3976cadaa3e",
   "metadata": {},
   "outputs": [],
   "source": [
    "import pandas as pd"
   ]
  },
  {
   "cell_type": "code",
   "execution_count": 2,
   "id": "5ebbf9cf-5e91-4dc3-ad85-f626811d6ffb",
   "metadata": {},
   "outputs": [],
   "source": [
    "import matplotlib.pyplot as plt"
   ]
  },
  {
   "cell_type": "code",
   "execution_count": 3,
   "id": "24cd24d8-035b-4d51-8601-bb4ca5cb6041",
   "metadata": {},
   "outputs": [],
   "source": [
    "nf=pd.read_csv('dataset/Netflix.csv')"
   ]
  },
  {
   "cell_type": "code",
   "execution_count": null,
   "id": "57a05f45-b092-44b6-a54c-e50596af8968",
   "metadata": {},
   "outputs": [],
   "source": []
  },
  {
   "cell_type": "code",
   "execution_count": 4,
   "id": "2fd2bb98-299a-4138-92e6-472dce9643b7",
   "metadata": {},
   "outputs": [
    {
     "data": {
      "text/html": [
       "<div>\n",
       "<style scoped>\n",
       "    .dataframe tbody tr th:only-of-type {\n",
       "        vertical-align: middle;\n",
       "    }\n",
       "\n",
       "    .dataframe tbody tr th {\n",
       "        vertical-align: top;\n",
       "    }\n",
       "\n",
       "    .dataframe thead th {\n",
       "        text-align: right;\n",
       "    }\n",
       "</style>\n",
       "<table border=\"1\" class=\"dataframe\">\n",
       "  <thead>\n",
       "    <tr style=\"text-align: right;\">\n",
       "      <th></th>\n",
       "      <th>Show_Id</th>\n",
       "      <th>Category</th>\n",
       "      <th>Title</th>\n",
       "      <th>Director</th>\n",
       "      <th>Cast</th>\n",
       "      <th>Country</th>\n",
       "      <th>Release_Date</th>\n",
       "      <th>Rating</th>\n",
       "      <th>Duration</th>\n",
       "      <th>Type</th>\n",
       "      <th>Description</th>\n",
       "    </tr>\n",
       "  </thead>\n",
       "  <tbody>\n",
       "    <tr>\n",
       "      <th>0</th>\n",
       "      <td>s1</td>\n",
       "      <td>TV Show</td>\n",
       "      <td>3%</td>\n",
       "      <td>NaN</td>\n",
       "      <td>João Miguel, Bianca Comparato, Michel Gomes, R...</td>\n",
       "      <td>Brazil</td>\n",
       "      <td>August 14, 2020</td>\n",
       "      <td>TV-MA</td>\n",
       "      <td>4 Seasons</td>\n",
       "      <td>International TV Shows, TV Dramas, TV Sci-Fi &amp;...</td>\n",
       "      <td>In a future where the elite inhabit an island ...</td>\n",
       "    </tr>\n",
       "    <tr>\n",
       "      <th>1</th>\n",
       "      <td>s2</td>\n",
       "      <td>Movie</td>\n",
       "      <td>07:19</td>\n",
       "      <td>Jorge Michel Grau</td>\n",
       "      <td>Demián Bichir, Héctor Bonilla, Oscar Serrano, ...</td>\n",
       "      <td>Mexico</td>\n",
       "      <td>December 23, 2016</td>\n",
       "      <td>TV-MA</td>\n",
       "      <td>93 min</td>\n",
       "      <td>Dramas, International Movies</td>\n",
       "      <td>After a devastating earthquake hits Mexico Cit...</td>\n",
       "    </tr>\n",
       "  </tbody>\n",
       "</table>\n",
       "</div>"
      ],
      "text/plain": [
       "  Show_Id Category  Title           Director  \\\n",
       "0      s1  TV Show     3%                NaN   \n",
       "1      s2    Movie  07:19  Jorge Michel Grau   \n",
       "\n",
       "                                                Cast Country  \\\n",
       "0  João Miguel, Bianca Comparato, Michel Gomes, R...  Brazil   \n",
       "1  Demián Bichir, Héctor Bonilla, Oscar Serrano, ...  Mexico   \n",
       "\n",
       "        Release_Date Rating   Duration  \\\n",
       "0    August 14, 2020  TV-MA  4 Seasons   \n",
       "1  December 23, 2016  TV-MA     93 min   \n",
       "\n",
       "                                                Type  \\\n",
       "0  International TV Shows, TV Dramas, TV Sci-Fi &...   \n",
       "1                       Dramas, International Movies   \n",
       "\n",
       "                                         Description  \n",
       "0  In a future where the elite inhabit an island ...  \n",
       "1  After a devastating earthquake hits Mexico Cit...  "
      ]
     },
     "execution_count": 4,
     "metadata": {},
     "output_type": "execute_result"
    }
   ],
   "source": [
    "nf.head(2)"
   ]
  },
  {
   "cell_type": "markdown",
   "id": "8e1761f2-a4a8-4987-9fbe-08607957e245",
   "metadata": {},
   "source": [
    "### Q1. To show top-5 records of the dataset?"
   ]
  },
  {
   "cell_type": "code",
   "execution_count": null,
   "id": "57e554ea-8b54-4117-b2cb-e983b22d16ac",
   "metadata": {},
   "outputs": [],
   "source": [
    "nf.head()"
   ]
  },
  {
   "cell_type": "markdown",
   "id": "5fa2943c-e21b-4432-b9af-61b6da88a445",
   "metadata": {},
   "source": [
    "### Q2. To show bottom-5 records of dataset?"
   ]
  },
  {
   "cell_type": "code",
   "execution_count": null,
   "id": "3c1c54ca-731b-4500-9bf2-c4a095837d6c",
   "metadata": {},
   "outputs": [],
   "source": [
    "nf.tail()"
   ]
  },
  {
   "cell_type": "markdown",
   "id": "2c870e04-5489-48fc-8e80-1b4c89dbc405",
   "metadata": {},
   "source": [
    "### Q3. To show the No. of Rows and Columns?"
   ]
  },
  {
   "cell_type": "code",
   "execution_count": null,
   "id": "43d69dab-7a19-4526-8e0a-2826615079d6",
   "metadata": {},
   "outputs": [],
   "source": [
    "print('No of rows=',nf.shape[0],'\\nNo of Columns=',nf.shape[1])"
   ]
  },
  {
   "cell_type": "markdown",
   "id": "f21b4eab-14a9-4b53-b9bd-b4759ad730f7",
   "metadata": {},
   "source": [
    "### Q4. To show each Column Name?"
   ]
  },
  {
   "cell_type": "code",
   "execution_count": null,
   "id": "d87a2646-289c-4aa1-a99f-a713760ffd9d",
   "metadata": {},
   "outputs": [],
   "source": [
    "print('The columns are=\\n',nf.columns)"
   ]
  },
  {
   "cell_type": "markdown",
   "id": "3c2c31c9-f3b1-49e3-97a6-1720f160da34",
   "metadata": {},
   "source": [
    "### Q5. To show the data-type of each column?"
   ]
  },
  {
   "cell_type": "code",
   "execution_count": 56,
   "id": "74d23e0a-353a-49f8-bee0-0ed6ecc07e48",
   "metadata": {},
   "outputs": [
    {
     "data": {
      "text/plain": [
       "Show_Id          object\n",
       "Category         object\n",
       "Title            object\n",
       "Director         object\n",
       "Cast             object\n",
       "Country          object\n",
       "Release_Date     object\n",
       "Rating           object\n",
       "Duration         object\n",
       "Type             object\n",
       "Description      object\n",
       "Minutes          object\n",
       "Unit             object\n",
       "Year            float64\n",
       "dtype: object"
      ]
     },
     "execution_count": 56,
     "metadata": {},
     "output_type": "execute_result"
    }
   ],
   "source": [
    "nf.dtypes"
   ]
  },
  {
   "cell_type": "markdown",
   "id": "a5455986-4d46-490d-a2bf-9e75229b0ba2",
   "metadata": {},
   "source": [
    "### Q6. To show indexes, columns, data-types of each column, memory at once?"
   ]
  },
  {
   "cell_type": "code",
   "execution_count": 57,
   "id": "6f36f1cd-8a66-4208-83b6-b89bd821c71b",
   "metadata": {},
   "outputs": [
    {
     "name": "stdout",
     "output_type": "stream",
     "text": [
      "<class 'pandas.core.frame.DataFrame'>\n",
      "RangeIndex: 7789 entries, 0 to 7788\n",
      "Data columns (total 14 columns):\n",
      " #   Column        Non-Null Count  Dtype  \n",
      "---  ------        --------------  -----  \n",
      " 0   Show_Id       7789 non-null   object \n",
      " 1   Category      7789 non-null   object \n",
      " 2   Title         7789 non-null   object \n",
      " 3   Director      5401 non-null   object \n",
      " 4   Cast          7071 non-null   object \n",
      " 5   Country       7282 non-null   object \n",
      " 6   Release_Date  7779 non-null   object \n",
      " 7   Rating        7782 non-null   object \n",
      " 8   Duration      7789 non-null   object \n",
      " 9   Type          7789 non-null   object \n",
      " 10  Description   7789 non-null   object \n",
      " 11  Minutes       7789 non-null   object \n",
      " 12  Unit          7789 non-null   object \n",
      " 13  Year          7691 non-null   float64\n",
      "dtypes: float64(1), object(13)\n",
      "memory usage: 852.1+ KB\n"
     ]
    }
   ],
   "source": [
    "nf.info()"
   ]
  },
  {
   "cell_type": "markdown",
   "id": "b17551ae-d412-4476-b021-0eb7812ec98d",
   "metadata": {},
   "source": [
    "### Q7. Is there any Duplicate Record in this dataset ? If yes, then remove the duplicate records."
   ]
  },
  {
   "cell_type": "code",
   "execution_count": 63,
   "id": "748e6a0c-507c-4468-b84b-b6d3ba392a82",
   "metadata": {},
   "outputs": [
    {
     "name": "stdout",
     "output_type": "stream",
     "text": [
      "No of Duplicates Found = 2\n",
      "No of Record after drop duplicates = 7787\n"
     ]
    }
   ],
   "source": [
    "print('No of Duplicates Found =',nf.duplicated().sum())# Inplace=True use karne ke baad \n",
    "print('No of Record after drop duplicates =',nf.drop_duplicates().shape[0])"
   ]
  },
  {
   "cell_type": "code",
   "execution_count": 64,
   "id": "c7e962b3-bae6-442a-8460-df1a2e1d4571",
   "metadata": {},
   "outputs": [
    {
     "data": {
      "text/plain": [
       "7789"
      ]
     },
     "execution_count": 64,
     "metadata": {},
     "output_type": "execute_result"
    }
   ],
   "source": [
    "nf.shape[0]"
   ]
  },
  {
   "cell_type": "code",
   "execution_count": 60,
   "id": "ba019bff-393f-4226-a287-d30f80e2c992",
   "metadata": {},
   "outputs": [
    {
     "data": {
      "text/plain": [
       "7787"
      ]
     },
     "execution_count": 60,
     "metadata": {},
     "output_type": "execute_result"
    }
   ],
   "source": [
    "nf.duplicated().sum()\n",
    "nf.drop_duplicates().shape[0]"
   ]
  },
  {
   "cell_type": "markdown",
   "id": "d99c5526-5013-4c1f-9f8f-b8d8b721934b",
   "metadata": {},
   "source": [
    "### Q8. Is there any Null Value present in any column ?"
   ]
  },
  {
   "cell_type": "code",
   "execution_count": 61,
   "id": "8f099dec-3e10-4a97-8df0-d99d7549060c",
   "metadata": {},
   "outputs": [
    {
     "data": {
      "text/plain": [
       "Show_Id            0\n",
       "Category           0\n",
       "Title              0\n",
       "Director        2388\n",
       "Cast             718\n",
       "Country          507\n",
       "Release_Date      10\n",
       "Rating             7\n",
       "Duration           0\n",
       "Type               0\n",
       "Description        0\n",
       "Minutes            0\n",
       "Unit               0\n",
       "Year              98\n",
       "dtype: int64"
      ]
     },
     "execution_count": 61,
     "metadata": {},
     "output_type": "execute_result"
    }
   ],
   "source": [
    "nf.isnull().sum()"
   ]
  },
  {
   "cell_type": "markdown",
   "id": "01182257-0503-4059-9f6f-9798f893bc0a",
   "metadata": {},
   "source": [
    "### Q9. For 'House of Cards', what is the Show Id and Who is the Director of this show ?"
   ]
  },
  {
   "cell_type": "code",
   "execution_count": 25,
   "id": "20a328b7-88bd-4b7a-81f6-84ba6d4cf3bd",
   "metadata": {},
   "outputs": [
    {
     "data": {
      "text/html": [
       "<div>\n",
       "<style scoped>\n",
       "    .dataframe tbody tr th:only-of-type {\n",
       "        vertical-align: middle;\n",
       "    }\n",
       "\n",
       "    .dataframe tbody tr th {\n",
       "        vertical-align: top;\n",
       "    }\n",
       "\n",
       "    .dataframe thead th {\n",
       "        text-align: right;\n",
       "    }\n",
       "</style>\n",
       "<table border=\"1\" class=\"dataframe\">\n",
       "  <thead>\n",
       "    <tr style=\"text-align: right;\">\n",
       "      <th></th>\n",
       "      <th>Show_Id</th>\n",
       "      <th>Category</th>\n",
       "      <th>Title</th>\n",
       "      <th>Director</th>\n",
       "      <th>Cast</th>\n",
       "      <th>Country</th>\n",
       "      <th>Release_Date</th>\n",
       "      <th>Rating</th>\n",
       "      <th>Duration</th>\n",
       "      <th>Type</th>\n",
       "      <th>Description</th>\n",
       "      <th>Minutes</th>\n",
       "      <th>Unit</th>\n",
       "      <th>Year</th>\n",
       "    </tr>\n",
       "  </thead>\n",
       "  <tbody>\n",
       "    <tr>\n",
       "      <th>2832</th>\n",
       "      <td>s2833</td>\n",
       "      <td>TV Show</td>\n",
       "      <td>House of Cards</td>\n",
       "      <td>Robin Wright, David Fincher, Gerald McRaney, J...</td>\n",
       "      <td>Kevin Spacey, Robin Wright, Kate Mara, Corey S...</td>\n",
       "      <td>United States</td>\n",
       "      <td>November 2, 2018</td>\n",
       "      <td>TV-MA</td>\n",
       "      <td>6 Seasons</td>\n",
       "      <td>TV Dramas, TV Thrillers</td>\n",
       "      <td>A ruthless politician will stop at nothing to ...</td>\n",
       "      <td>6</td>\n",
       "      <td>Seasons</td>\n",
       "      <td>2018.0</td>\n",
       "    </tr>\n",
       "  </tbody>\n",
       "</table>\n",
       "</div>"
      ],
      "text/plain": [
       "     Show_Id Category           Title  \\\n",
       "2832   s2833  TV Show  House of Cards   \n",
       "\n",
       "                                               Director  \\\n",
       "2832  Robin Wright, David Fincher, Gerald McRaney, J...   \n",
       "\n",
       "                                                   Cast        Country  \\\n",
       "2832  Kevin Spacey, Robin Wright, Kate Mara, Corey S...  United States   \n",
       "\n",
       "          Release_Date Rating   Duration                     Type  \\\n",
       "2832  November 2, 2018  TV-MA  6 Seasons  TV Dramas, TV Thrillers   \n",
       "\n",
       "                                            Description Minutes     Unit  \\\n",
       "2832  A ruthless politician will stop at nothing to ...       6  Seasons   \n",
       "\n",
       "        Year  \n",
       "2832  2018.0  "
      ]
     },
     "execution_count": 25,
     "metadata": {},
     "output_type": "execute_result"
    }
   ],
   "source": [
    "a=nf[nf['Title']=='House of Cards']\n",
    "a"
   ]
  },
  {
   "cell_type": "code",
   "execution_count": 24,
   "id": "11f1e447-ef66-4fba-b32c-d0e105ba5d5f",
   "metadata": {},
   "outputs": [
    {
     "name": "stdout",
     "output_type": "stream",
     "text": [
      "show_id = s2833\n",
      "director = Robin Wright, David Fincher, Gerald McRaney, John David Coles, David Manson\n"
     ]
    }
   ],
   "source": [
    "a=nf[nf['Title']=='House of Cards']\n",
    "print('show_id =', a['Show_Id'].values[0])\n",
    "print('director =',a['Director'].values[0])"
   ]
  },
  {
   "cell_type": "markdown",
   "id": "6f002a57-8578-4089-976c-51b285e08bc9",
   "metadata": {},
   "source": [
    "### Q10.In which year highest number of the TV Shows & Movies were released ? Show with Bar Graph."
   ]
  },
  {
   "cell_type": "code",
   "execution_count": 17,
   "id": "58f75162-9478-4d50-9423-7693e0d1e502",
   "metadata": {},
   "outputs": [
    {
     "data": {
      "image/png": "[encoded data removed]",
      "text/plain": [
       "<Figure size 640x480 with 1 Axes>"
      ]
     },
     "metadata": {},
     "output_type": "display_data"
    }
   ],
   "source": [
    "nf['Year']=pd.to_datetime(nf['Release_Date'], errors='coerce').dt.year\n",
    "nf['Year'].value_counts().head(3).plot(kind='bar')\n",
    "plt.show()"
   ]
  },
  {
   "cell_type": "code",
   "execution_count": 19,
   "id": "44272964-ce03-46f5-9002-098ed29cdf54",
   "metadata": {},
   "outputs": [
    {
     "data": {
      "image/png": "[encoded data removed]",
      "text/plain": [
       "<Figure size 640x480 with 1 Axes>"
      ]
     },
     "metadata": {},
     "output_type": "display_data"
    }
   ],
   "source": [
    "nf['Year']=pd.to_datetime(nf['Release_Date'],format='mixed').dt.year \n",
    "nf['Year'].value_counts().head(3).plot(kind='bar')\n",
    "plt.show()\n"
   ]
  },
  {
   "cell_type": "markdown",
   "id": "36934db4-58c0-41ed-a994-94b1d7523a76",
   "metadata": {},
   "source": [
    "### Q11. How many Movies & TV Shows are in the dataset ? Show with Bar Graph."
   ]
  },
  {
   "cell_type": "code",
   "execution_count": 20,
   "id": "06d459e2-abe4-44ee-8427-39f608f5737e",
   "metadata": {},
   "outputs": [
    {
     "name": "stdout",
     "output_type": "stream",
     "text": [
      "Category\n",
      "Movie      5379\n",
      "TV Show    2410\n",
      "Name: count, dtype: int64\n"
     ]
    },
    {
     "data": {
      "text/plain": [
       "<function matplotlib.pyplot.show(close=None, block=None)>"
      ]
     },
     "execution_count": 20,
     "metadata": {},
     "output_type": "execute_result"
    },
    {
     "data": {
      "image/png": "[encoded data removed]",
      "text/plain": [
       "<Figure size 640x480 with 1 Axes>"
      ]
     },
     "metadata": {},
     "output_type": "display_data"
    }
   ],
   "source": [
    "a=nf['Category'].value_counts()\n",
    "print(a)\n",
    "a.plot(kind='bar')\n",
    "plt.show\n"
   ]
  },
  {
   "cell_type": "markdown",
   "id": "db0e79ca-7136-4bc9-a5a6-655ad6d3d532",
   "metadata": {},
   "source": [
    "### Q12. Show all the Movies that were released in year 2000?"
   ]
  },
  {
   "cell_type": "code",
   "execution_count": 21,
   "id": "abd30d34-7e13-49a1-a76c-4bae3cf8df55",
   "metadata": {},
   "outputs": [
    {
     "data": {
      "text/plain": [
       "1313"
      ]
     },
     "execution_count": 21,
     "metadata": {},
     "output_type": "execute_result"
    }
   ],
   "source": [
    "nf[(nf['Year']==2020) & (nf['Category']=='Movie')].shape[0]"
   ]
  },
  {
   "cell_type": "code",
   "execution_count": 22,
   "id": "95fcdb70-9550-46e5-858b-54936bc03da5",
   "metadata": {},
   "outputs": [
    {
     "data": {
      "text/html": [
       "<div>\n",
       "<style scoped>\n",
       "    .dataframe tbody tr th:only-of-type {\n",
       "        vertical-align: middle;\n",
       "    }\n",
       "\n",
       "    .dataframe tbody tr th {\n",
       "        vertical-align: top;\n",
       "    }\n",
       "\n",
       "    .dataframe thead th {\n",
       "        text-align: right;\n",
       "    }\n",
       "</style>\n",
       "<table border=\"1\" class=\"dataframe\">\n",
       "  <thead>\n",
       "    <tr style=\"text-align: right;\">\n",
       "      <th></th>\n",
       "      <th>Title</th>\n",
       "      <th>Year</th>\n",
       "    </tr>\n",
       "  </thead>\n",
       "  <tbody>\n",
       "    <tr>\n",
       "      <th>4</th>\n",
       "      <td>21</td>\n",
       "      <td>2020.0</td>\n",
       "    </tr>\n",
       "    <tr>\n",
       "      <th>6</th>\n",
       "      <td>122</td>\n",
       "      <td>2020.0</td>\n",
       "    </tr>\n",
       "    <tr>\n",
       "      <th>14</th>\n",
       "      <td>3022</td>\n",
       "      <td>2020.0</td>\n",
       "    </tr>\n",
       "    <tr>\n",
       "      <th>27</th>\n",
       "      <td>#Alive</td>\n",
       "      <td>2020.0</td>\n",
       "    </tr>\n",
       "    <tr>\n",
       "      <th>28</th>\n",
       "      <td>#AnneFrank - Parallel Stories</td>\n",
       "      <td>2020.0</td>\n",
       "    </tr>\n",
       "    <tr>\n",
       "      <th>...</th>\n",
       "      <td>...</td>\n",
       "      <td>...</td>\n",
       "    </tr>\n",
       "    <tr>\n",
       "      <th>7762</th>\n",
       "      <td>Zaki Chan</td>\n",
       "      <td>2020.0</td>\n",
       "    </tr>\n",
       "    <tr>\n",
       "      <th>7783</th>\n",
       "      <td>Zoom</td>\n",
       "      <td>2020.0</td>\n",
       "    </tr>\n",
       "    <tr>\n",
       "      <th>7784</th>\n",
       "      <td>Zozo</td>\n",
       "      <td>2020.0</td>\n",
       "    </tr>\n",
       "    <tr>\n",
       "      <th>7786</th>\n",
       "      <td>Zulu Man in Japan</td>\n",
       "      <td>2020.0</td>\n",
       "    </tr>\n",
       "    <tr>\n",
       "      <th>7788</th>\n",
       "      <td>ZZ TOP: THAT LITTLE OL' BAND FROM TEXAS</td>\n",
       "      <td>2020.0</td>\n",
       "    </tr>\n",
       "  </tbody>\n",
       "</table>\n",
       "<p>1313 rows × 2 columns</p>\n",
       "</div>"
      ],
      "text/plain": [
       "                                        Title    Year\n",
       "4                                          21  2020.0\n",
       "6                                         122  2020.0\n",
       "14                                       3022  2020.0\n",
       "27                                     #Alive  2020.0\n",
       "28              #AnneFrank - Parallel Stories  2020.0\n",
       "...                                       ...     ...\n",
       "7762                                Zaki Chan  2020.0\n",
       "7783                                     Zoom  2020.0\n",
       "7784                                     Zozo  2020.0\n",
       "7786                        Zulu Man in Japan  2020.0\n",
       "7788  ZZ TOP: THAT LITTLE OL' BAND FROM TEXAS  2020.0\n",
       "\n",
       "[1313 rows x 2 columns]"
      ]
     },
     "execution_count": 22,
     "metadata": {},
     "output_type": "execute_result"
    }
   ],
   "source": [
    "#nf['Year']=pd.to_datetime(nf['Release_Date'], errors='coerce').dt.year\n",
    "nf.loc[(nf['Year']==2020) & (nf['Category']=='Movie'),['Title','Year']]\n"
   ]
  },
  {
   "cell_type": "markdown",
   "id": "d8cebcc1-47cc-48f6-8c7c-726916211574",
   "metadata": {},
   "source": [
    "### Q13. Show only the Titles of all TV Shows that were released in India only?"
   ]
  },
  {
   "cell_type": "code",
   "execution_count": 23,
   "id": "31dbfdd6-8d7b-4dd5-8589-eabf85cc7a70",
   "metadata": {},
   "outputs": [
    {
     "data": {
      "text/html": [
       "<div>\n",
       "<style scoped>\n",
       "    .dataframe tbody tr th:only-of-type {\n",
       "        vertical-align: middle;\n",
       "    }\n",
       "\n",
       "    .dataframe tbody tr th {\n",
       "        vertical-align: top;\n",
       "    }\n",
       "\n",
       "    .dataframe thead th {\n",
       "        text-align: right;\n",
       "    }\n",
       "</style>\n",
       "<table border=\"1\" class=\"dataframe\">\n",
       "  <thead>\n",
       "    <tr style=\"text-align: right;\">\n",
       "      <th></th>\n",
       "      <th>Title</th>\n",
       "      <th>Country</th>\n",
       "    </tr>\n",
       "  </thead>\n",
       "  <tbody>\n",
       "    <tr>\n",
       "      <th>86</th>\n",
       "      <td>21 Sarfarosh: Saragarhi 1897</td>\n",
       "      <td>India</td>\n",
       "    </tr>\n",
       "    <tr>\n",
       "      <th>132</th>\n",
       "      <td>7 (Seven)</td>\n",
       "      <td>India</td>\n",
       "    </tr>\n",
       "    <tr>\n",
       "      <th>340</th>\n",
       "      <td>Agent Raghav</td>\n",
       "      <td>India</td>\n",
       "    </tr>\n",
       "    <tr>\n",
       "      <th>364</th>\n",
       "      <td>Akbar Birbal</td>\n",
       "      <td>India</td>\n",
       "    </tr>\n",
       "    <tr>\n",
       "      <th>533</th>\n",
       "      <td>Anjaan: Rural Myths</td>\n",
       "      <td>India</td>\n",
       "    </tr>\n",
       "    <tr>\n",
       "      <th>...</th>\n",
       "      <td>...</td>\n",
       "      <td>...</td>\n",
       "    </tr>\n",
       "    <tr>\n",
       "      <th>6249</th>\n",
       "      <td>The Creative Indians</td>\n",
       "      <td>India</td>\n",
       "    </tr>\n",
       "    <tr>\n",
       "      <th>6400</th>\n",
       "      <td>The Golden Years with Javed Akhtar</td>\n",
       "      <td>India</td>\n",
       "    </tr>\n",
       "    <tr>\n",
       "      <th>6469</th>\n",
       "      <td>The House That Made Me</td>\n",
       "      <td>India</td>\n",
       "    </tr>\n",
       "    <tr>\n",
       "      <th>7294</th>\n",
       "      <td>Typewriter</td>\n",
       "      <td>India</td>\n",
       "    </tr>\n",
       "    <tr>\n",
       "      <th>7705</th>\n",
       "      <td>Yeh Meri Family</td>\n",
       "      <td>India</td>\n",
       "    </tr>\n",
       "  </tbody>\n",
       "</table>\n",
       "<p>71 rows × 2 columns</p>\n",
       "</div>"
      ],
      "text/plain": [
       "                                   Title Country\n",
       "86          21 Sarfarosh: Saragarhi 1897   India\n",
       "132                            7 (Seven)   India\n",
       "340                         Agent Raghav   India\n",
       "364                         Akbar Birbal   India\n",
       "533                  Anjaan: Rural Myths   India\n",
       "...                                  ...     ...\n",
       "6249                The Creative Indians   India\n",
       "6400  The Golden Years with Javed Akhtar   India\n",
       "6469              The House That Made Me   India\n",
       "7294                          Typewriter   India\n",
       "7705                     Yeh Meri Family   India\n",
       "\n",
       "[71 rows x 2 columns]"
      ]
     },
     "execution_count": 23,
     "metadata": {},
     "output_type": "execute_result"
    }
   ],
   "source": [
    "nf.loc[(nf['Country'] =='India') & (nf['Category']=='TV Show'),['Title','Country']]"
   ]
  },
  {
   "cell_type": "markdown",
   "id": "e2cfdb64-c010-43ff-be54-63a9c385a965",
   "metadata": {},
   "source": [
    "### Q14. Show Top 10 Directors, who gave the highest number of TV Shows & Movies to Netflix ?"
   ]
  },
  {
   "cell_type": "code",
   "execution_count": null,
   "id": "33ab733e-d819-4488-b493-b1fbb13ed581",
   "metadata": {},
   "outputs": [],
   "source": [
    "nf['Director'].value_counts().head(10)"
   ]
  },
  {
   "cell_type": "markdown",
   "id": "8d7ff826-ab74-40d9-b098-0129d0b09ba5",
   "metadata": {},
   "source": [
    "### Q15.  Show all the Records, where \"Category is Movie and Type is Comedies\" or \"Country is United Kingdom\" ?"
   ]
  },
  {
   "cell_type": "code",
   "execution_count": null,
   "id": "2b084183-0d73-4711-802b-a7c92e9aec27",
   "metadata": {},
   "outputs": [],
   "source": [
    "nf[(nf['Category']=='Movie') & (nf['Type']=='Comedies') | (nf['Country']=='United Kingdom')].head()"
   ]
  },
  {
   "cell_type": "markdown",
   "id": "af857cb4-f073-4beb-a6aa-80ca7169fdd1",
   "metadata": {},
   "source": [
    "### Q16. In how many movies/shows, Tom Cruise was cast ?"
   ]
  },
  {
   "cell_type": "code",
   "execution_count": null,
   "id": "c90220ba-835a-4949-a4fe-055514df4e3b",
   "metadata": {},
   "outputs": [],
   "source": [
    "nf[nf['Cast']=='Tom Cruise']\n"
   ]
  },
  {
   "cell_type": "code",
   "execution_count": null,
   "id": "eead9a42-3bb3-4dc7-95b9-463a9fd06197",
   "metadata": {},
   "outputs": [],
   "source": [
    "nf[nf.Cast.str.contains('Tom Cruise',na=False)]"
   ]
  },
  {
   "cell_type": "markdown",
   "id": "14e0f371-a525-4063-846b-29d0164bee6e",
   "metadata": {},
   "source": [
    "### Q17. What are the different Ratings defined by Netflix ?"
   ]
  },
  {
   "cell_type": "code",
   "execution_count": null,
   "id": "cd13e6df-5f94-48d7-93ca-3ea52f896542",
   "metadata": {},
   "outputs": [],
   "source": [
    "nf['Rating'].unique()"
   ]
  },
  {
   "cell_type": "markdown",
   "id": "3312a833-4152-41f9-abc4-7a0f8c3127ea",
   "metadata": {},
   "source": [
    "### Q18. How many Movies got the 'TV-14' rating, in Canada ?"
   ]
  },
  {
   "cell_type": "code",
   "execution_count": 52,
   "id": "61c41694-5363-48ce-a74f-69d241f8e851",
   "metadata": {},
   "outputs": [
    {
     "data": {
      "text/plain": [
       "11"
      ]
     },
     "execution_count": 52,
     "metadata": {},
     "output_type": "execute_result"
    }
   ],
   "source": [
    "nf[(nf['Rating']=='TV-14') & (nf['Country']=='Canada') & (nf['Category']=='Movie')].shape[0]"
   ]
  },
  {
   "cell_type": "markdown",
   "id": "11191bad-2447-498f-b7c7-f4d52f6726fc",
   "metadata": {},
   "source": [
    "### Q19. How many TV Show got the 'R' rating, after year 2018 ?"
   ]
  },
  {
   "cell_type": "code",
   "execution_count": 53,
   "id": "f1f3f30d-5c3f-4f9f-9b1d-b351b6b2df00",
   "metadata": {},
   "outputs": [
    {
     "data": {
      "text/html": [
       "<div>\n",
       "<style scoped>\n",
       "    .dataframe tbody tr th:only-of-type {\n",
       "        vertical-align: middle;\n",
       "    }\n",
       "\n",
       "    .dataframe tbody tr th {\n",
       "        vertical-align: top;\n",
       "    }\n",
       "\n",
       "    .dataframe thead th {\n",
       "        text-align: right;\n",
       "    }\n",
       "</style>\n",
       "<table border=\"1\" class=\"dataframe\">\n",
       "  <thead>\n",
       "    <tr style=\"text-align: right;\">\n",
       "      <th></th>\n",
       "      <th>Show_Id</th>\n",
       "      <th>Category</th>\n",
       "      <th>Title</th>\n",
       "      <th>Director</th>\n",
       "      <th>Cast</th>\n",
       "      <th>Country</th>\n",
       "      <th>Release_Date</th>\n",
       "      <th>Rating</th>\n",
       "      <th>Duration</th>\n",
       "      <th>Type</th>\n",
       "      <th>Description</th>\n",
       "      <th>Minutes</th>\n",
       "      <th>Unit</th>\n",
       "      <th>Year</th>\n",
       "    </tr>\n",
       "  </thead>\n",
       "  <tbody>\n",
       "    <tr>\n",
       "      <th>6437</th>\n",
       "      <td>s6436</td>\n",
       "      <td>TV Show</td>\n",
       "      <td>The Hateful Eight: Extended Version</td>\n",
       "      <td>Quentin Tarantino</td>\n",
       "      <td>Samuel L. Jackson, Kurt Russell, Jennifer Jaso...</td>\n",
       "      <td>NaN</td>\n",
       "      <td>April 25, 2019</td>\n",
       "      <td>R</td>\n",
       "      <td>1 Season</td>\n",
       "      <td>TV Shows</td>\n",
       "      <td>Trapped at a stagecoach stop as a storm rages ...</td>\n",
       "      <td>1</td>\n",
       "      <td>Season</td>\n",
       "      <td>2019.0</td>\n",
       "    </tr>\n",
       "  </tbody>\n",
       "</table>\n",
       "</div>"
      ],
      "text/plain": [
       "     Show_Id Category                                Title           Director  \\\n",
       "6437   s6436  TV Show  The Hateful Eight: Extended Version  Quentin Tarantino   \n",
       "\n",
       "                                                   Cast Country  \\\n",
       "6437  Samuel L. Jackson, Kurt Russell, Jennifer Jaso...     NaN   \n",
       "\n",
       "        Release_Date Rating  Duration      Type  \\\n",
       "6437  April 25, 2019      R  1 Season  TV Shows   \n",
       "\n",
       "                                            Description Minutes    Unit  \\\n",
       "6437  Trapped at a stagecoach stop as a storm rages ...       1  Season   \n",
       "\n",
       "        Year  \n",
       "6437  2019.0  "
      ]
     },
     "execution_count": 53,
     "metadata": {},
     "output_type": "execute_result"
    }
   ],
   "source": [
    "nf['Year'] = pd.to_datetime(nf['Release_Date'], errors='coerce').dt.year\n",
    "nf[(nf['Category'] == 'TV Show') & (nf['Rating'] == 'R') &  (nf['Year'] > 2018)]\n"
   ]
  },
  {
   "cell_type": "markdown",
   "id": "72d298b9-410e-4b0e-b9d3-2ab831f0fc3a",
   "metadata": {},
   "source": [
    "### Q20. What is the maximum duration of a Movie/Show on Netflix ?"
   ]
  },
  {
   "cell_type": "code",
   "execution_count": 11,
   "id": "8d01cdae-686d-4756-9d3a-0bb3527902cd",
   "metadata": {},
   "outputs": [
    {
     "data": {
      "text/plain": [
       "dtype('O')"
      ]
     },
     "execution_count": 11,
     "metadata": {},
     "output_type": "execute_result"
    }
   ],
   "source": [
    "nf.Duration.dtypes"
   ]
  },
  {
   "cell_type": "code",
   "execution_count": 12,
   "id": "a61b41fe-7713-4473-bf51-d125412e70e8",
   "metadata": {},
   "outputs": [],
   "source": [
    "nf[['Minutes','Unit']]=nf['Duration'].str.split(' ',expand=True)"
   ]
  },
  {
   "cell_type": "code",
   "execution_count": 13,
   "id": "93952979-12bd-45ad-bd4b-211f1e35224b",
   "metadata": {},
   "outputs": [
    {
     "data": {
      "text/html": [
       "<div>\n",
       "<style scoped>\n",
       "    .dataframe tbody tr th:only-of-type {\n",
       "        vertical-align: middle;\n",
       "    }\n",
       "\n",
       "    .dataframe tbody tr th {\n",
       "        vertical-align: top;\n",
       "    }\n",
       "\n",
       "    .dataframe thead th {\n",
       "        text-align: right;\n",
       "    }\n",
       "</style>\n",
       "<table border=\"1\" class=\"dataframe\">\n",
       "  <thead>\n",
       "    <tr style=\"text-align: right;\">\n",
       "      <th></th>\n",
       "      <th>Show_Id</th>\n",
       "      <th>Category</th>\n",
       "      <th>Title</th>\n",
       "      <th>Director</th>\n",
       "      <th>Cast</th>\n",
       "      <th>Country</th>\n",
       "      <th>Release_Date</th>\n",
       "      <th>Rating</th>\n",
       "      <th>Duration</th>\n",
       "      <th>Type</th>\n",
       "      <th>Description</th>\n",
       "      <th>Minutes</th>\n",
       "      <th>Unit</th>\n",
       "    </tr>\n",
       "  </thead>\n",
       "  <tbody>\n",
       "    <tr>\n",
       "      <th>0</th>\n",
       "      <td>s1</td>\n",
       "      <td>TV Show</td>\n",
       "      <td>3%</td>\n",
       "      <td>NaN</td>\n",
       "      <td>João Miguel, Bianca Comparato, Michel Gomes, R...</td>\n",
       "      <td>Brazil</td>\n",
       "      <td>August 14, 2020</td>\n",
       "      <td>TV-MA</td>\n",
       "      <td>4 Seasons</td>\n",
       "      <td>International TV Shows, TV Dramas, TV Sci-Fi &amp;...</td>\n",
       "      <td>In a future where the elite inhabit an island ...</td>\n",
       "      <td>4</td>\n",
       "      <td>Seasons</td>\n",
       "    </tr>\n",
       "    <tr>\n",
       "      <th>1</th>\n",
       "      <td>s2</td>\n",
       "      <td>Movie</td>\n",
       "      <td>07:19</td>\n",
       "      <td>Jorge Michel Grau</td>\n",
       "      <td>Demián Bichir, Héctor Bonilla, Oscar Serrano, ...</td>\n",
       "      <td>Mexico</td>\n",
       "      <td>December 23, 2016</td>\n",
       "      <td>TV-MA</td>\n",
       "      <td>93 min</td>\n",
       "      <td>Dramas, International Movies</td>\n",
       "      <td>After a devastating earthquake hits Mexico Cit...</td>\n",
       "      <td>93</td>\n",
       "      <td>min</td>\n",
       "    </tr>\n",
       "  </tbody>\n",
       "</table>\n",
       "</div>"
      ],
      "text/plain": [
       "  Show_Id Category  Title           Director  \\\n",
       "0      s1  TV Show     3%                NaN   \n",
       "1      s2    Movie  07:19  Jorge Michel Grau   \n",
       "\n",
       "                                                Cast Country  \\\n",
       "0  João Miguel, Bianca Comparato, Michel Gomes, R...  Brazil   \n",
       "1  Demián Bichir, Héctor Bonilla, Oscar Serrano, ...  Mexico   \n",
       "\n",
       "        Release_Date Rating   Duration  \\\n",
       "0    August 14, 2020  TV-MA  4 Seasons   \n",
       "1  December 23, 2016  TV-MA     93 min   \n",
       "\n",
       "                                                Type  \\\n",
       "0  International TV Shows, TV Dramas, TV Sci-Fi &...   \n",
       "1                       Dramas, International Movies   \n",
       "\n",
       "                                         Description Minutes     Unit  \n",
       "0  In a future where the elite inhabit an island ...       4  Seasons  \n",
       "1  After a devastating earthquake hits Mexico Cit...      93      min  "
      ]
     },
     "execution_count": 13,
     "metadata": {},
     "output_type": "execute_result"
    }
   ],
   "source": [
    "nf.head(2)"
   ]
  },
  {
   "cell_type": "code",
   "execution_count": 54,
   "id": "6aa2336a-cf6f-4066-a33e-c79b4c326cfa",
   "metadata": {},
   "outputs": [
    {
     "data": {
      "text/plain": [
       "312"
      ]
     },
     "execution_count": 54,
     "metadata": {},
     "output_type": "execute_result"
    }
   ],
   "source": [
    "nf.Minutes.astype(int).max()"
   ]
  },
  {
   "cell_type": "code",
   "execution_count": 55,
   "id": "761c3b7b-594e-4554-86b0-5261d551de7c",
   "metadata": {},
   "outputs": [
    {
     "data": {
      "text/plain": [
       "1"
      ]
     },
     "execution_count": 55,
     "metadata": {},
     "output_type": "execute_result"
    }
   ],
   "source": [
    "nf.Minutes.astype(int).min()"
   ]
  },
  {
   "cell_type": "code",
   "execution_count": 39,
   "id": "a9acacd5-40f0-4404-a039-e594bd227de1",
   "metadata": {},
   "outputs": [
    {
     "data": {
      "text/plain": [
       "312"
      ]
     },
     "execution_count": 39,
     "metadata": {},
     "output_type": "execute_result"
    }
   ],
   "source": [
    "max_duration = nf['Duration'].apply(lambda x: int(x.split()[0]) if 'min' in x else 0).max()\n",
    "max_duration\n"
   ]
  },
  {
   "cell_type": "code",
   "execution_count": 40,
   "id": "77d60289-2afc-4b20-9df3-92762df50c95",
   "metadata": {},
   "outputs": [],
   "source": [
    "# Extract the numeric part of durations that include 'min' and convert to integers\n",
    "durations = [int(duration.split()[0]) for duration in nf['Duration'] if 'min' in duration]\n",
    "max_duration = max(durations, default=0)\n"
   ]
  },
  {
   "cell_type": "markdown",
   "id": "20fbfffd-bfc8-4129-8f07-3bbb6d3ca71f",
   "metadata": {},
   "source": [
    "### Q21. Which individual country has the Highest No. of TV Shows ?"
   ]
  },
  {
   "cell_type": "code",
   "execution_count": 41,
   "id": "44a7b1ed-5c5f-4cac-a388-a36ea0788c9e",
   "metadata": {},
   "outputs": [
    {
     "data": {
      "text/plain": [
       "Show_Id         2410\n",
       "Category        2410\n",
       "Title           2410\n",
       "Director         185\n",
       "Cast            2118\n",
       "Country         2133\n",
       "Release_Date    2400\n",
       "Rating          2408\n",
       "Duration        2410\n",
       "Type            2410\n",
       "Description     2410\n",
       "Minutes         2410\n",
       "Unit            2410\n",
       "Year            2400\n",
       "dtype: int64"
      ]
     },
     "execution_count": 41,
     "metadata": {},
     "output_type": "execute_result"
    }
   ],
   "source": [
    "nf[nf['Category']=='TV Show'].count()"
   ]
  },
  {
   "cell_type": "code",
   "execution_count": 42,
   "id": "c74e4ac3-21aa-47f7-a109-f398b41593ef",
   "metadata": {},
   "outputs": [
    {
     "data": {
      "text/plain": [
       "2133"
      ]
     },
     "execution_count": 42,
     "metadata": {},
     "output_type": "execute_result"
    }
   ],
   "source": [
    "a=nf[nf['Category']=='TV Show']['Country']\n",
    "a.count()"
   ]
  },
  {
   "cell_type": "code",
   "execution_count": 43,
   "id": "a2a07447-7fd8-4c5d-9c6b-a3de8bd25271",
   "metadata": {},
   "outputs": [
    {
     "data": {
      "text/plain": [
       "Country\n",
       "United States    705\n",
       "Name: count, dtype: int64"
      ]
     },
     "execution_count": 43,
     "metadata": {},
     "output_type": "execute_result"
    }
   ],
   "source": [
    "a=nf[nf['Category']=='TV Show']['Country'].value_counts()\n",
    "a.head(1)"
   ]
  },
  {
   "cell_type": "code",
   "execution_count": 46,
   "id": "f0598288-9c2a-4dad-ada9-16760058e553",
   "metadata": {},
   "outputs": [
    {
     "data": {
      "text/plain": [
       "2133"
      ]
     },
     "execution_count": 46,
     "metadata": {},
     "output_type": "execute_result"
    }
   ],
   "source": [
    "a.sum()"
   ]
  },
  {
   "cell_type": "markdown",
   "id": "384faa16-dd91-44ba-9b86-3ae58ac03672",
   "metadata": {},
   "source": [
    "### Q22. How can we sort the dataset by Year ?"
   ]
  },
  {
   "cell_type": "code",
   "execution_count": 50,
   "id": "638886fd-9532-453c-b8f1-3722af8bc58d",
   "metadata": {},
   "outputs": [
    {
     "data": {
      "text/html": [
       "<div>\n",
       "<style scoped>\n",
       "    .dataframe tbody tr th:only-of-type {\n",
       "        vertical-align: middle;\n",
       "    }\n",
       "\n",
       "    .dataframe tbody tr th {\n",
       "        vertical-align: top;\n",
       "    }\n",
       "\n",
       "    .dataframe thead th {\n",
       "        text-align: right;\n",
       "    }\n",
       "</style>\n",
       "<table border=\"1\" class=\"dataframe\">\n",
       "  <thead>\n",
       "    <tr style=\"text-align: right;\">\n",
       "      <th></th>\n",
       "      <th>Show_Id</th>\n",
       "      <th>Category</th>\n",
       "      <th>Title</th>\n",
       "      <th>Director</th>\n",
       "      <th>Cast</th>\n",
       "      <th>Country</th>\n",
       "      <th>Release_Date</th>\n",
       "      <th>Rating</th>\n",
       "      <th>Duration</th>\n",
       "      <th>Type</th>\n",
       "      <th>Description</th>\n",
       "      <th>Minutes</th>\n",
       "      <th>Unit</th>\n",
       "      <th>Year</th>\n",
       "    </tr>\n",
       "  </thead>\n",
       "  <tbody>\n",
       "    <tr>\n",
       "      <th>7115</th>\n",
       "      <td>s7114</td>\n",
       "      <td>Movie</td>\n",
       "      <td>To and From New York</td>\n",
       "      <td>Sorin Dan Mihalcescu</td>\n",
       "      <td>Barbara King, Shaana Diya, John Krisiukenas, Y...</td>\n",
       "      <td>United States</td>\n",
       "      <td>January 1, 2008</td>\n",
       "      <td>TV-MA</td>\n",
       "      <td>81 min</td>\n",
       "      <td>Dramas, Independent Movies, Thrillers</td>\n",
       "      <td>While covering a story in New York City, a Sea...</td>\n",
       "      <td>81</td>\n",
       "      <td>min</td>\n",
       "      <td>2008.0</td>\n",
       "    </tr>\n",
       "    <tr>\n",
       "      <th>1765</th>\n",
       "      <td>s1766</td>\n",
       "      <td>TV Show</td>\n",
       "      <td>Dinner for Five</td>\n",
       "      <td>NaN</td>\n",
       "      <td>NaN</td>\n",
       "      <td>United States</td>\n",
       "      <td>February 4, 2008</td>\n",
       "      <td>TV-MA</td>\n",
       "      <td>1 Season</td>\n",
       "      <td>Stand-Up Comedy &amp; Talk Shows</td>\n",
       "      <td>In each episode, four celebrities join host Jo...</td>\n",
       "      <td>1</td>\n",
       "      <td>Season</td>\n",
       "      <td>2008.0</td>\n",
       "    </tr>\n",
       "    <tr>\n",
       "      <th>5766</th>\n",
       "      <td>s5766</td>\n",
       "      <td>Movie</td>\n",
       "      <td>Splatter</td>\n",
       "      <td>Joe Dante</td>\n",
       "      <td>Corey Feldman, Tony Todd, Tara Leigh, Erin Way...</td>\n",
       "      <td>United States</td>\n",
       "      <td>November 18, 2009</td>\n",
       "      <td>TV-MA</td>\n",
       "      <td>29 min</td>\n",
       "      <td>Horror Movies</td>\n",
       "      <td>After committing suicide, a washed-up rocker r...</td>\n",
       "      <td>29</td>\n",
       "      <td>min</td>\n",
       "      <td>2009.0</td>\n",
       "    </tr>\n",
       "    <tr>\n",
       "      <th>3248</th>\n",
       "      <td>s3249</td>\n",
       "      <td>Movie</td>\n",
       "      <td>Just Another Love Story</td>\n",
       "      <td>Ole Bornedal</td>\n",
       "      <td>Anders W. Berthelsen, Rebecka Hemse, Nikolaj L...</td>\n",
       "      <td>Denmark</td>\n",
       "      <td>May 5, 2009</td>\n",
       "      <td>TV-MA</td>\n",
       "      <td>104 min</td>\n",
       "      <td>Dramas, International Movies</td>\n",
       "      <td>When he causes a car accident that leaves a yo...</td>\n",
       "      <td>104</td>\n",
       "      <td>min</td>\n",
       "      <td>2009.0</td>\n",
       "    </tr>\n",
       "    <tr>\n",
       "      <th>3840</th>\n",
       "      <td>s3841</td>\n",
       "      <td>Movie</td>\n",
       "      <td>Mad Ron's Prevues from Hell</td>\n",
       "      <td>Jim Monaco</td>\n",
       "      <td>Nick Pawlow, Jordu Schell, Jay Kushwara, Micha...</td>\n",
       "      <td>United States</td>\n",
       "      <td>November 1, 2010</td>\n",
       "      <td>NR</td>\n",
       "      <td>84 min</td>\n",
       "      <td>Cult Movies, Horror Movies</td>\n",
       "      <td>This collection cherry-picks trailers, forgott...</td>\n",
       "      <td>84</td>\n",
       "      <td>min</td>\n",
       "      <td>2010.0</td>\n",
       "    </tr>\n",
       "    <tr>\n",
       "      <th>...</th>\n",
       "      <td>...</td>\n",
       "      <td>...</td>\n",
       "      <td>...</td>\n",
       "      <td>...</td>\n",
       "      <td>...</td>\n",
       "      <td>...</td>\n",
       "      <td>...</td>\n",
       "      <td>...</td>\n",
       "      <td>...</td>\n",
       "      <td>...</td>\n",
       "      <td>...</td>\n",
       "      <td>...</td>\n",
       "      <td>...</td>\n",
       "      <td>...</td>\n",
       "    </tr>\n",
       "    <tr>\n",
       "      <th>3374</th>\n",
       "      <td>s3375</td>\n",
       "      <td>TV Show</td>\n",
       "      <td>Kikoriki</td>\n",
       "      <td>NaN</td>\n",
       "      <td>Igor Dmitriev</td>\n",
       "      <td>NaN</td>\n",
       "      <td>NaN</td>\n",
       "      <td>TV-Y</td>\n",
       "      <td>2 Seasons</td>\n",
       "      <td>Kids' TV</td>\n",
       "      <td>A wacky rabbit and his gang of animal pals hav...</td>\n",
       "      <td>2</td>\n",
       "      <td>Seasons</td>\n",
       "      <td>NaN</td>\n",
       "    </tr>\n",
       "    <tr>\n",
       "      <th>3492</th>\n",
       "      <td>s3493</td>\n",
       "      <td>TV Show</td>\n",
       "      <td>La Familia P. Luche</td>\n",
       "      <td>NaN</td>\n",
       "      <td>Eugenio Derbez, Consuelo Duval, Luis Manuel Áv...</td>\n",
       "      <td>United States</td>\n",
       "      <td>NaN</td>\n",
       "      <td>TV-14</td>\n",
       "      <td>3 Seasons</td>\n",
       "      <td>International TV Shows, Spanish-Language TV Sh...</td>\n",
       "      <td>This irreverent sitcom featues Ludovico, Feder...</td>\n",
       "      <td>3</td>\n",
       "      <td>Seasons</td>\n",
       "      <td>NaN</td>\n",
       "    </tr>\n",
       "    <tr>\n",
       "      <th>3946</th>\n",
       "      <td>s3947</td>\n",
       "      <td>TV Show</td>\n",
       "      <td>Maron</td>\n",
       "      <td>NaN</td>\n",
       "      <td>Marc Maron, Judd Hirsch, Josh Brener, Nora Zeh...</td>\n",
       "      <td>United States</td>\n",
       "      <td>NaN</td>\n",
       "      <td>TV-MA</td>\n",
       "      <td>4 Seasons</td>\n",
       "      <td>TV Comedies</td>\n",
       "      <td>Marc Maron stars as Marc Maron, who interviews...</td>\n",
       "      <td>4</td>\n",
       "      <td>Seasons</td>\n",
       "      <td>NaN</td>\n",
       "    </tr>\n",
       "    <tr>\n",
       "      <th>5138</th>\n",
       "      <td>s5138</td>\n",
       "      <td>TV Show</td>\n",
       "      <td>Red vs. Blue</td>\n",
       "      <td>NaN</td>\n",
       "      <td>Burnie Burns, Jason Saldaña, Gustavo Sorola, G...</td>\n",
       "      <td>United States</td>\n",
       "      <td>NaN</td>\n",
       "      <td>NR</td>\n",
       "      <td>13 Seasons</td>\n",
       "      <td>TV Action &amp; Adventure, TV Comedies, TV Sci-Fi ...</td>\n",
       "      <td>This parody of first-person shooter games, mil...</td>\n",
       "      <td>13</td>\n",
       "      <td>Seasons</td>\n",
       "      <td>NaN</td>\n",
       "    </tr>\n",
       "    <tr>\n",
       "      <th>6066</th>\n",
       "      <td>s6066</td>\n",
       "      <td>TV Show</td>\n",
       "      <td>The Adventures of Figaro Pho</td>\n",
       "      <td>NaN</td>\n",
       "      <td>Luke Jurevicius, Craig Behenna, Charlotte Haml...</td>\n",
       "      <td>Australia</td>\n",
       "      <td>NaN</td>\n",
       "      <td>TV-Y7</td>\n",
       "      <td>2 Seasons</td>\n",
       "      <td>Kids' TV, TV Comedies</td>\n",
       "      <td>Imagine your worst fears, then multiply them: ...</td>\n",
       "      <td>2</td>\n",
       "      <td>Seasons</td>\n",
       "      <td>NaN</td>\n",
       "    </tr>\n",
       "  </tbody>\n",
       "</table>\n",
       "<p>7789 rows × 14 columns</p>\n",
       "</div>"
      ],
      "text/plain": [
       "     Show_Id Category                         Title              Director  \\\n",
       "7115   s7114    Movie          To and From New York  Sorin Dan Mihalcescu   \n",
       "1765   s1766  TV Show               Dinner for Five                   NaN   \n",
       "5766   s5766    Movie                      Splatter             Joe Dante   \n",
       "3248   s3249    Movie       Just Another Love Story          Ole Bornedal   \n",
       "3840   s3841    Movie   Mad Ron's Prevues from Hell            Jim Monaco   \n",
       "...      ...      ...                           ...                   ...   \n",
       "3374   s3375  TV Show                      Kikoriki                   NaN   \n",
       "3492   s3493  TV Show           La Familia P. Luche                   NaN   \n",
       "3946   s3947  TV Show                         Maron                   NaN   \n",
       "5138   s5138  TV Show                  Red vs. Blue                   NaN   \n",
       "6066   s6066  TV Show  The Adventures of Figaro Pho                   NaN   \n",
       "\n",
       "                                                   Cast        Country  \\\n",
       "7115  Barbara King, Shaana Diya, John Krisiukenas, Y...  United States   \n",
       "1765                                                NaN  United States   \n",
       "5766  Corey Feldman, Tony Todd, Tara Leigh, Erin Way...  United States   \n",
       "3248  Anders W. Berthelsen, Rebecka Hemse, Nikolaj L...        Denmark   \n",
       "3840  Nick Pawlow, Jordu Schell, Jay Kushwara, Micha...  United States   \n",
       "...                                                 ...            ...   \n",
       "3374                                      Igor Dmitriev            NaN   \n",
       "3492  Eugenio Derbez, Consuelo Duval, Luis Manuel Áv...  United States   \n",
       "3946  Marc Maron, Judd Hirsch, Josh Brener, Nora Zeh...  United States   \n",
       "5138  Burnie Burns, Jason Saldaña, Gustavo Sorola, G...  United States   \n",
       "6066  Luke Jurevicius, Craig Behenna, Charlotte Haml...      Australia   \n",
       "\n",
       "           Release_Date Rating    Duration  \\\n",
       "7115    January 1, 2008  TV-MA      81 min   \n",
       "1765   February 4, 2008  TV-MA    1 Season   \n",
       "5766  November 18, 2009  TV-MA      29 min   \n",
       "3248        May 5, 2009  TV-MA     104 min   \n",
       "3840   November 1, 2010     NR      84 min   \n",
       "...                 ...    ...         ...   \n",
       "3374                NaN   TV-Y   2 Seasons   \n",
       "3492                NaN  TV-14   3 Seasons   \n",
       "3946                NaN  TV-MA   4 Seasons   \n",
       "5138                NaN     NR  13 Seasons   \n",
       "6066                NaN  TV-Y7   2 Seasons   \n",
       "\n",
       "                                                   Type  \\\n",
       "7115              Dramas, Independent Movies, Thrillers   \n",
       "1765                       Stand-Up Comedy & Talk Shows   \n",
       "5766                                      Horror Movies   \n",
       "3248                       Dramas, International Movies   \n",
       "3840                         Cult Movies, Horror Movies   \n",
       "...                                                 ...   \n",
       "3374                                           Kids' TV   \n",
       "3492  International TV Shows, Spanish-Language TV Sh...   \n",
       "3946                                        TV Comedies   \n",
       "5138  TV Action & Adventure, TV Comedies, TV Sci-Fi ...   \n",
       "6066                              Kids' TV, TV Comedies   \n",
       "\n",
       "                                            Description Minutes     Unit  \\\n",
       "7115  While covering a story in New York City, a Sea...      81      min   \n",
       "1765  In each episode, four celebrities join host Jo...       1   Season   \n",
       "5766  After committing suicide, a washed-up rocker r...      29      min   \n",
       "3248  When he causes a car accident that leaves a yo...     104      min   \n",
       "3840  This collection cherry-picks trailers, forgott...      84      min   \n",
       "...                                                 ...     ...      ...   \n",
       "3374  A wacky rabbit and his gang of animal pals hav...       2  Seasons   \n",
       "3492  This irreverent sitcom featues Ludovico, Feder...       3  Seasons   \n",
       "3946  Marc Maron stars as Marc Maron, who interviews...       4  Seasons   \n",
       "5138  This parody of first-person shooter games, mil...      13  Seasons   \n",
       "6066  Imagine your worst fears, then multiply them: ...       2  Seasons   \n",
       "\n",
       "        Year  \n",
       "7115  2008.0  \n",
       "1765  2008.0  \n",
       "5766  2009.0  \n",
       "3248  2009.0  \n",
       "3840  2010.0  \n",
       "...      ...  \n",
       "3374     NaN  \n",
       "3492     NaN  \n",
       "3946     NaN  \n",
       "5138     NaN  \n",
       "6066     NaN  \n",
       "\n",
       "[7789 rows x 14 columns]"
      ]
     },
     "execution_count": 50,
     "metadata": {},
     "output_type": "execute_result"
    }
   ],
   "source": [
    "#nf['Year'] = pd.to_datetime(nf['Release_Date'], errors='coerce').dt.year\n",
    "nf.sort_values(by='Year')"
   ]
  },
  {
   "cell_type": "markdown",
   "id": "17da8c8c-8038-4070-9732-dca0d0139865",
   "metadata": {},
   "source": [
    "### Q23. Find all the instances where : Category is 'Movie' and Type is 'Dramas' or  Category is 'TV Show' & Type is 'Kids' TV' ?"
   ]
  },
  {
   "cell_type": "code",
   "execution_count": 51,
   "id": "ca62cbe2-0e9f-4a5d-b091-aae73ef654a9",
   "metadata": {},
   "outputs": [
    {
     "data": {
      "text/html": [
       "<div>\n",
       "<style scoped>\n",
       "    .dataframe tbody tr th:only-of-type {\n",
       "        vertical-align: middle;\n",
       "    }\n",
       "\n",
       "    .dataframe tbody tr th {\n",
       "        vertical-align: top;\n",
       "    }\n",
       "\n",
       "    .dataframe thead th {\n",
       "        text-align: right;\n",
       "    }\n",
       "</style>\n",
       "<table border=\"1\" class=\"dataframe\">\n",
       "  <thead>\n",
       "    <tr style=\"text-align: right;\">\n",
       "      <th></th>\n",
       "      <th>Show_Id</th>\n",
       "      <th>Category</th>\n",
       "      <th>Title</th>\n",
       "      <th>Director</th>\n",
       "      <th>Cast</th>\n",
       "      <th>Country</th>\n",
       "      <th>Release_Date</th>\n",
       "      <th>Rating</th>\n",
       "      <th>Duration</th>\n",
       "      <th>Type</th>\n",
       "      <th>Description</th>\n",
       "      <th>Minutes</th>\n",
       "      <th>Unit</th>\n",
       "      <th>Year</th>\n",
       "    </tr>\n",
       "  </thead>\n",
       "  <tbody>\n",
       "    <tr>\n",
       "      <th>4</th>\n",
       "      <td>s5</td>\n",
       "      <td>Movie</td>\n",
       "      <td>21</td>\n",
       "      <td>Robert Luketic</td>\n",
       "      <td>Jim Sturgess, Kevin Spacey, Kate Bosworth, Aar...</td>\n",
       "      <td>United States</td>\n",
       "      <td>January 1, 2020</td>\n",
       "      <td>PG-13</td>\n",
       "      <td>123 min</td>\n",
       "      <td>Dramas</td>\n",
       "      <td>A brilliant group of students become card-coun...</td>\n",
       "      <td>123</td>\n",
       "      <td>min</td>\n",
       "      <td>2020.0</td>\n",
       "    </tr>\n",
       "    <tr>\n",
       "      <th>7</th>\n",
       "      <td>s8</td>\n",
       "      <td>Movie</td>\n",
       "      <td>187</td>\n",
       "      <td>Kevin Reynolds</td>\n",
       "      <td>Samuel L. Jackson, John Heard, Kelly Rowan, Cl...</td>\n",
       "      <td>United States</td>\n",
       "      <td>November 1, 2019</td>\n",
       "      <td>R</td>\n",
       "      <td>119 min</td>\n",
       "      <td>Dramas</td>\n",
       "      <td>After one of his high school students attacks ...</td>\n",
       "      <td>119</td>\n",
       "      <td>min</td>\n",
       "      <td>2019.0</td>\n",
       "    </tr>\n",
       "    <tr>\n",
       "      <th>170</th>\n",
       "      <td>s171</td>\n",
       "      <td>Movie</td>\n",
       "      <td>A Family Man</td>\n",
       "      <td>Mark Williams</td>\n",
       "      <td>Gerard Butler, Gretchen Mol, Alison Brie, Will...</td>\n",
       "      <td>Canada, United States</td>\n",
       "      <td>December 15, 2019</td>\n",
       "      <td>R</td>\n",
       "      <td>110 min</td>\n",
       "      <td>Dramas</td>\n",
       "      <td>A ruthless corporate headhunter battles his ri...</td>\n",
       "      <td>110</td>\n",
       "      <td>min</td>\n",
       "      <td>2019.0</td>\n",
       "    </tr>\n",
       "    <tr>\n",
       "      <th>232</th>\n",
       "      <td>s233</td>\n",
       "      <td>Movie</td>\n",
       "      <td>A Stoning in Fulham County</td>\n",
       "      <td>Larry Elikann</td>\n",
       "      <td>Ken Olin, Jill Eikenberry, Maureen Mueller, Gr...</td>\n",
       "      <td>United States</td>\n",
       "      <td>October 1, 2011</td>\n",
       "      <td>TV-14</td>\n",
       "      <td>95 min</td>\n",
       "      <td>Dramas</td>\n",
       "      <td>After reckless teens kill an Amish child, a pr...</td>\n",
       "      <td>95</td>\n",
       "      <td>min</td>\n",
       "      <td>2011.0</td>\n",
       "    </tr>\n",
       "    <tr>\n",
       "      <th>295</th>\n",
       "      <td>s296</td>\n",
       "      <td>Movie</td>\n",
       "      <td>Across Grace Alley</td>\n",
       "      <td>Ralph Macchio</td>\n",
       "      <td>Ben Hyland, Marsha Mason, Karina Smirnoff, Col...</td>\n",
       "      <td>United States</td>\n",
       "      <td>December 1, 2016</td>\n",
       "      <td>TV-PG</td>\n",
       "      <td>24 min</td>\n",
       "      <td>Dramas</td>\n",
       "      <td>A young boy, upset by his parents' divorce, be...</td>\n",
       "      <td>24</td>\n",
       "      <td>min</td>\n",
       "      <td>2016.0</td>\n",
       "    </tr>\n",
       "  </tbody>\n",
       "</table>\n",
       "</div>"
      ],
      "text/plain": [
       "    Show_Id Category                       Title        Director  \\\n",
       "4        s5    Movie                          21  Robert Luketic   \n",
       "7        s8    Movie                         187  Kevin Reynolds   \n",
       "170    s171    Movie                A Family Man   Mark Williams   \n",
       "232    s233    Movie  A Stoning in Fulham County   Larry Elikann   \n",
       "295    s296    Movie          Across Grace Alley   Ralph Macchio   \n",
       "\n",
       "                                                  Cast                Country  \\\n",
       "4    Jim Sturgess, Kevin Spacey, Kate Bosworth, Aar...          United States   \n",
       "7    Samuel L. Jackson, John Heard, Kelly Rowan, Cl...          United States   \n",
       "170  Gerard Butler, Gretchen Mol, Alison Brie, Will...  Canada, United States   \n",
       "232  Ken Olin, Jill Eikenberry, Maureen Mueller, Gr...          United States   \n",
       "295  Ben Hyland, Marsha Mason, Karina Smirnoff, Col...          United States   \n",
       "\n",
       "          Release_Date Rating Duration    Type  \\\n",
       "4      January 1, 2020  PG-13  123 min  Dramas   \n",
       "7     November 1, 2019      R  119 min  Dramas   \n",
       "170  December 15, 2019      R  110 min  Dramas   \n",
       "232    October 1, 2011  TV-14   95 min  Dramas   \n",
       "295   December 1, 2016  TV-PG   24 min  Dramas   \n",
       "\n",
       "                                           Description Minutes Unit    Year  \n",
       "4    A brilliant group of students become card-coun...     123  min  2020.0  \n",
       "7    After one of his high school students attacks ...     119  min  2019.0  \n",
       "170  A ruthless corporate headhunter battles his ri...     110  min  2019.0  \n",
       "232  After reckless teens kill an Amish child, a pr...      95  min  2011.0  \n",
       "295  A young boy, upset by his parents' divorce, be...      24  min  2016.0  "
      ]
     },
     "execution_count": 51,
     "metadata": {},
     "output_type": "execute_result"
    }
   ],
   "source": [
    "nf[(nf['Category']=='Movie') & (nf['Type']=='Dramas') | (nf['Category']=='TV Show') & (nf['Type']=='Kids''TV')].head()"
   ]
  },
  {
   "cell_type": "code",
   "execution_count": null,
   "id": "fd0f731e-4927-4dde-af38-c7e667019929",
   "metadata": {},
   "outputs": [],
   "source": []
  }
 ],
 "metadata": {
  "kernelspec": {
   "display_name": "Python 3 (ipykernel)",
   "language": "python",
   "name": "python3"
  },
  "language_info": {
   "codemirror_mode": {
    "name": "ipython",
    "version": 3
   },
   "file_extension": ".py",
   "mimetype": "text/x-python",
   "name": "python",
   "nbconvert_exporter": "python",
   "pygments_lexer": "ipython3",
   "version": "3.11.7"
  }
 },
 "nbformat": 4,
 "nbformat_minor": 5
}
